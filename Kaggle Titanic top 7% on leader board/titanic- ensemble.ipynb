{
 "cells": [
  {
   "cell_type": "code",
   "execution_count": 1,
   "metadata": {},
   "outputs": [],
   "source": [
    "import pandas as pd\n",
    "from pandas import Series,DataFrame\n",
    "import numpy as np\n",
    "import matplotlib.pyplot as plt\n",
    "import seaborn as sns\n",
    "%matplotlib inline\n",
    "import warnings\n",
    "warnings.filterwarnings('ignore')\n",
    "warnings.filterwarnings('ignore', category=DeprecationWarning)"
   ]
  },
  {
   "cell_type": "code",
   "execution_count": 2,
   "metadata": {},
   "outputs": [],
   "source": [
    "train=pd.read_csv('train.csv')\n",
    "test=pd.read_csv('test.csv')"
   ]
  },
  {
   "cell_type": "code",
   "execution_count": null,
   "metadata": {},
   "outputs": [],
   "source": []
  },
  {
   "cell_type": "code",
   "execution_count": 4,
   "metadata": {},
   "outputs": [],
   "source": [
    "trdf=pd.read_csv('en_train.csv')\n",
    "valdf=pd.read_csv('en_val.csv')\n",
    "tstdf=pd.read_csv('en_test.csv')"
   ]
  },
  {
   "cell_type": "code",
   "execution_count": 5,
   "metadata": {},
   "outputs": [
    {
     "ename": "AttributeError",
     "evalue": "'DataFrame' object has no attribute 'Survived'",
     "output_type": "error",
     "traceback": [
      "\u001b[1;31m---------------------------------------------------------------------------\u001b[0m",
      "\u001b[1;31mAttributeError\u001b[0m                            Traceback (most recent call last)",
      "\u001b[1;32m<ipython-input-5-fc8562bb9e52>\u001b[0m in \u001b[0;36m<module>\u001b[1;34m()\u001b[0m\n\u001b[1;32m----> 1\u001b[1;33m \u001b[0my_train\u001b[0m\u001b[1;33m=\u001b[0m\u001b[0mtrdf\u001b[0m\u001b[1;33m.\u001b[0m\u001b[0mSurvived\u001b[0m\u001b[1;33m\u001b[0m\u001b[0m\n\u001b[0m\u001b[0;32m      2\u001b[0m \u001b[0mtrdf\u001b[0m\u001b[1;33m.\u001b[0m\u001b[0mdrop\u001b[0m\u001b[1;33m(\u001b[0m\u001b[1;34m'Survived'\u001b[0m\u001b[1;33m,\u001b[0m\u001b[0maxis\u001b[0m\u001b[1;33m=\u001b[0m\u001b[1;36m1\u001b[0m\u001b[1;33m,\u001b[0m\u001b[0minplace\u001b[0m\u001b[1;33m=\u001b[0m\u001b[1;32mTrue\u001b[0m\u001b[1;33m)\u001b[0m\u001b[1;33m\u001b[0m\u001b[0m\n\u001b[0;32m      3\u001b[0m \u001b[0my_test\u001b[0m\u001b[1;33m=\u001b[0m\u001b[0mvaldf\u001b[0m\u001b[1;33m.\u001b[0m\u001b[0mSurvived\u001b[0m\u001b[1;33m\u001b[0m\u001b[0m\n\u001b[0;32m      4\u001b[0m \u001b[0mvaldf\u001b[0m\u001b[1;33m.\u001b[0m\u001b[0mdrop\u001b[0m\u001b[1;33m(\u001b[0m\u001b[1;34m'Survived'\u001b[0m\u001b[1;33m,\u001b[0m\u001b[0maxis\u001b[0m\u001b[1;33m=\u001b[0m\u001b[1;36m1\u001b[0m\u001b[1;33m,\u001b[0m\u001b[0minplace\u001b[0m\u001b[1;33m=\u001b[0m\u001b[1;32mTrue\u001b[0m\u001b[1;33m)\u001b[0m\u001b[1;33m\u001b[0m\u001b[0m\n\u001b[0;32m      5\u001b[0m \u001b[0mX_train\u001b[0m\u001b[1;33m=\u001b[0m\u001b[0mtrdf\u001b[0m\u001b[1;33m\u001b[0m\u001b[0m\n",
      "\u001b[1;32m~\\AppData\\Local\\Continuum\\anaconda3\\lib\\site-packages\\pandas\\core\\generic.py\u001b[0m in \u001b[0;36m__getattr__\u001b[1;34m(self, name)\u001b[0m\n\u001b[0;32m   4370\u001b[0m             \u001b[1;32mif\u001b[0m \u001b[0mself\u001b[0m\u001b[1;33m.\u001b[0m\u001b[0m_info_axis\u001b[0m\u001b[1;33m.\u001b[0m\u001b[0m_can_hold_identifiers_and_holds_name\u001b[0m\u001b[1;33m(\u001b[0m\u001b[0mname\u001b[0m\u001b[1;33m)\u001b[0m\u001b[1;33m:\u001b[0m\u001b[1;33m\u001b[0m\u001b[0m\n\u001b[0;32m   4371\u001b[0m                 \u001b[1;32mreturn\u001b[0m \u001b[0mself\u001b[0m\u001b[1;33m[\u001b[0m\u001b[0mname\u001b[0m\u001b[1;33m]\u001b[0m\u001b[1;33m\u001b[0m\u001b[0m\n\u001b[1;32m-> 4372\u001b[1;33m             \u001b[1;32mreturn\u001b[0m \u001b[0mobject\u001b[0m\u001b[1;33m.\u001b[0m\u001b[0m__getattribute__\u001b[0m\u001b[1;33m(\u001b[0m\u001b[0mself\u001b[0m\u001b[1;33m,\u001b[0m \u001b[0mname\u001b[0m\u001b[1;33m)\u001b[0m\u001b[1;33m\u001b[0m\u001b[0m\n\u001b[0m\u001b[0;32m   4373\u001b[0m \u001b[1;33m\u001b[0m\u001b[0m\n\u001b[0;32m   4374\u001b[0m     \u001b[1;32mdef\u001b[0m \u001b[0m__setattr__\u001b[0m\u001b[1;33m(\u001b[0m\u001b[0mself\u001b[0m\u001b[1;33m,\u001b[0m \u001b[0mname\u001b[0m\u001b[1;33m,\u001b[0m \u001b[0mvalue\u001b[0m\u001b[1;33m)\u001b[0m\u001b[1;33m:\u001b[0m\u001b[1;33m\u001b[0m\u001b[0m\n",
      "\u001b[1;31mAttributeError\u001b[0m: 'DataFrame' object has no attribute 'Survived'"
     ]
    }
   ],
   "source": [
    "y_train=trdf.Survived\n",
    "trdf.drop('Survived',axis=1,inplace=True)\n",
    "y_test=valdf.Survived\n",
    "valdf.drop('Survived',axis=1,inplace=True)\n",
    "X_train=trdf\n",
    "X_test=valdf\n",
    "Xtest=tstdf\n"
   ]
  },
  {
   "cell_type": "code",
   "execution_count": 41,
   "metadata": {},
   "outputs": [
    {
     "data": {
      "text/html": [
       "<div>\n",
       "<style scoped>\n",
       "    .dataframe tbody tr th:only-of-type {\n",
       "        vertical-align: middle;\n",
       "    }\n",
       "\n",
       "    .dataframe tbody tr th {\n",
       "        vertical-align: top;\n",
       "    }\n",
       "\n",
       "    .dataframe thead th {\n",
       "        text-align: right;\n",
       "    }\n",
       "</style>\n",
       "<table border=\"1\" class=\"dataframe\">\n",
       "  <thead>\n",
       "    <tr style=\"text-align: right;\">\n",
       "      <th></th>\n",
       "      <th>Age</th>\n",
       "      <th>Alone</th>\n",
       "      <th>Cabin</th>\n",
       "      <th>Embarked</th>\n",
       "      <th>FamilySize</th>\n",
       "      <th>Fare</th>\n",
       "      <th>LargeFamily</th>\n",
       "      <th>Parch</th>\n",
       "      <th>Pclass</th>\n",
       "      <th>Sex</th>\n",
       "      <th>SibSp</th>\n",
       "      <th>SmallFamily</th>\n",
       "      <th>Title</th>\n",
       "      <th>person</th>\n",
       "      <th>Sib+Parch</th>\n",
       "      <th>Age+SibSp</th>\n",
       "      <th>Age+Parch</th>\n",
       "      <th>Age*Fare</th>\n",
       "      <th>Pclass+SibSp</th>\n",
       "    </tr>\n",
       "  </thead>\n",
       "  <tbody>\n",
       "    <tr>\n",
       "      <th>0</th>\n",
       "      <td>1.0</td>\n",
       "      <td>0</td>\n",
       "      <td>0</td>\n",
       "      <td>0</td>\n",
       "      <td>2</td>\n",
       "      <td>0</td>\n",
       "      <td>0</td>\n",
       "      <td>0</td>\n",
       "      <td>3</td>\n",
       "      <td>0</td>\n",
       "      <td>1</td>\n",
       "      <td>1</td>\n",
       "      <td>0</td>\n",
       "      <td>0</td>\n",
       "      <td>1</td>\n",
       "      <td>2.0</td>\n",
       "      <td>1.0</td>\n",
       "      <td>0.0</td>\n",
       "      <td>3</td>\n",
       "    </tr>\n",
       "    <tr>\n",
       "      <th>1</th>\n",
       "      <td>2.0</td>\n",
       "      <td>0</td>\n",
       "      <td>1</td>\n",
       "      <td>1</td>\n",
       "      <td>2</td>\n",
       "      <td>3</td>\n",
       "      <td>0</td>\n",
       "      <td>0</td>\n",
       "      <td>1</td>\n",
       "      <td>1</td>\n",
       "      <td>1</td>\n",
       "      <td>1</td>\n",
       "      <td>2</td>\n",
       "      <td>1</td>\n",
       "      <td>1</td>\n",
       "      <td>3.0</td>\n",
       "      <td>2.0</td>\n",
       "      <td>6.0</td>\n",
       "      <td>1</td>\n",
       "    </tr>\n",
       "    <tr>\n",
       "      <th>2</th>\n",
       "      <td>1.0</td>\n",
       "      <td>1</td>\n",
       "      <td>0</td>\n",
       "      <td>0</td>\n",
       "      <td>1</td>\n",
       "      <td>1</td>\n",
       "      <td>0</td>\n",
       "      <td>0</td>\n",
       "      <td>3</td>\n",
       "      <td>1</td>\n",
       "      <td>0</td>\n",
       "      <td>0</td>\n",
       "      <td>1</td>\n",
       "      <td>1</td>\n",
       "      <td>0</td>\n",
       "      <td>1.0</td>\n",
       "      <td>1.0</td>\n",
       "      <td>1.0</td>\n",
       "      <td>0</td>\n",
       "    </tr>\n",
       "    <tr>\n",
       "      <th>3</th>\n",
       "      <td>2.0</td>\n",
       "      <td>0</td>\n",
       "      <td>1</td>\n",
       "      <td>0</td>\n",
       "      <td>2</td>\n",
       "      <td>3</td>\n",
       "      <td>0</td>\n",
       "      <td>0</td>\n",
       "      <td>1</td>\n",
       "      <td>1</td>\n",
       "      <td>1</td>\n",
       "      <td>1</td>\n",
       "      <td>2</td>\n",
       "      <td>1</td>\n",
       "      <td>1</td>\n",
       "      <td>3.0</td>\n",
       "      <td>2.0</td>\n",
       "      <td>6.0</td>\n",
       "      <td>1</td>\n",
       "    </tr>\n",
       "    <tr>\n",
       "      <th>4</th>\n",
       "      <td>2.0</td>\n",
       "      <td>1</td>\n",
       "      <td>0</td>\n",
       "      <td>0</td>\n",
       "      <td>1</td>\n",
       "      <td>1</td>\n",
       "      <td>0</td>\n",
       "      <td>0</td>\n",
       "      <td>3</td>\n",
       "      <td>0</td>\n",
       "      <td>0</td>\n",
       "      <td>0</td>\n",
       "      <td>0</td>\n",
       "      <td>0</td>\n",
       "      <td>0</td>\n",
       "      <td>2.0</td>\n",
       "      <td>2.0</td>\n",
       "      <td>2.0</td>\n",
       "      <td>0</td>\n",
       "    </tr>\n",
       "  </tbody>\n",
       "</table>\n",
       "</div>"
      ],
      "text/plain": [
       "   Age  Alone  Cabin  Embarked  FamilySize  Fare  LargeFamily  Parch  Pclass  \\\n",
       "0  1.0      0      0         0           2     0            0      0       3   \n",
       "1  2.0      0      1         1           2     3            0      0       1   \n",
       "2  1.0      1      0         0           1     1            0      0       3   \n",
       "3  2.0      0      1         0           2     3            0      0       1   \n",
       "4  2.0      1      0         0           1     1            0      0       3   \n",
       "\n",
       "   Sex  SibSp  SmallFamily  Title  person  Sib+Parch  Age+SibSp  Age+Parch  \\\n",
       "0    0      1            1      0       0          1        2.0        1.0   \n",
       "1    1      1            1      2       1          1        3.0        2.0   \n",
       "2    1      0            0      1       1          0        1.0        1.0   \n",
       "3    1      1            1      2       1          1        3.0        2.0   \n",
       "4    0      0            0      0       0          0        2.0        2.0   \n",
       "\n",
       "   Age*Fare  Pclass+SibSp  \n",
       "0       0.0             3  \n",
       "1       6.0             1  \n",
       "2       1.0             0  \n",
       "3       6.0             1  \n",
       "4       2.0             0  "
      ]
     },
     "execution_count": 41,
     "metadata": {},
     "output_type": "execute_result"
    }
   ],
   "source": [
    "X_train.head()"
   ]
  },
  {
   "cell_type": "code",
   "execution_count": 87,
   "metadata": {},
   "outputs": [],
   "source": [
    "X_train = pd.read_csv('en_train1.csv')\n",
    "X_test = pd.read_csv('en_val1.csv')\n",
    "Xtest= pd.read_csv('en_test1.csv')"
   ]
  },
  {
   "cell_type": "code",
   "execution_count": 43,
   "metadata": {},
   "outputs": [
    {
     "ename": "AttributeError",
     "evalue": "'numpy.ndarray' object has no attribute 'head'",
     "output_type": "error",
     "traceback": [
      "\u001b[1;31m---------------------------------------------------------------------------\u001b[0m",
      "\u001b[1;31mAttributeError\u001b[0m                            Traceback (most recent call last)",
      "\u001b[1;32m<ipython-input-43-6443d46ffa5a>\u001b[0m in \u001b[0;36m<module>\u001b[1;34m()\u001b[0m\n\u001b[1;32m----> 1\u001b[1;33m \u001b[0mX_train_std\u001b[0m\u001b[1;33m.\u001b[0m\u001b[0mhead\u001b[0m\u001b[1;33m(\u001b[0m\u001b[1;33m)\u001b[0m\u001b[1;33m\u001b[0m\u001b[0m\n\u001b[0m",
      "\u001b[1;31mAttributeError\u001b[0m: 'numpy.ndarray' object has no attribute 'head'"
     ]
    }
   ],
   "source": [
    "X_train_std.head()"
   ]
  },
  {
   "cell_type": "code",
   "execution_count": 42,
   "metadata": {},
   "outputs": [],
   "source": [
    "from sklearn.preprocessing import StandardScaler\n",
    "from sklearn.model_selection import train_test_split\n",
    "\n",
    "#standardizing after splitting\n",
    "sc = StandardScaler().fit(X_train)\n",
    "X_train_std = sc.transform(X_train)\n",
    "X_test_std = sc.transform(X_test)\n",
    "\n",
    "#standardizing before splitting\n",
    "#data_std = StandardScaler().fit_transform(data)\n",
    "#X_train, X_test, y_train, y_test = train_test_split(data_std, target)"
   ]
  },
  {
   "cell_type": "code",
   "execution_count": null,
   "metadata": {},
   "outputs": [],
   "source": []
  },
  {
   "cell_type": "markdown",
   "metadata": {},
   "source": [
    "# Modelling "
   ]
  },
  {
   "cell_type": "code",
   "execution_count": 19,
   "metadata": {},
   "outputs": [],
   "source": [
    "from sklearn.model_selection import train_test_split\n",
    "from sklearn.model_selection import cross_val_score,cross_val_predict\n",
    "from sklearn.metrics import accuracy_score,classification_report,confusion_matrix\n",
    "\n",
    "\n"
   ]
  },
  {
   "cell_type": "code",
   "execution_count": 20,
   "metadata": {},
   "outputs": [],
   "source": [
    "#X_train,X_test,y_train,y_test = train_test_split(train,test,test_size=.5)"
   ]
  },
  {
   "cell_type": "code",
   "execution_count": 29,
   "metadata": {},
   "outputs": [],
   "source": [
    "def print_score(clf, X_train, y_train, X_test, y_test, train=True):\n",
    "    '''\n",
    "    print the accuracy score, classification report and confusion matrix of classifier\n",
    "    '''\n",
    "    if train:\n",
    "        '''\n",
    "        training performance\n",
    "        '''\n",
    "        print(\"Train Result:\\n\")\n",
    "        print(\"accuracy score: {0:.4f}\\n\".format(accuracy_score(y_train, clf.predict(X_train))))\n",
    "        print(\"Classification Report: \\n {}\\n\".format(classification_report(y_train, clf.predict(X_train))))\n",
    "        print(\"Confusion Matrix: \\n {}\\n\".format(confusion_matrix(y_train, clf.predict(X_train))))\n",
    "\n",
    "        res = cross_val_score(clf, X_train, y_train.ravel(), cv=4, scoring='accuracy')\n",
    "        print(\"Average Accuracy: \\t {0:.4f}\".format(np.mean(res)))\n",
    "        print(\"Accuracy SD: \\t\\t {0:.4f}\".format(np.std(res)))\n",
    "        \n",
    "    elif train==False:\n",
    "        '''\n",
    "        test performance\n",
    "        '''\n",
    "        print(\"Test Result:\\n\")        \n",
    "        print(\"accuracy score: {0:.4f}\\n\".format(accuracy_score(y_test, clf.predict(X_test))))\n",
    "        print(\"Classification Report: \\n {}\\n\".format(classification_report(y_test, clf.predict(X_test))))\n",
    "        print(\"Confusion Matrix: \\n {}\\n\".format(confusion_matrix(y_test, clf.predict(X_test))))    \n",
    "        "
   ]
  },
  {
   "cell_type": "markdown",
   "metadata": {},
   "source": [
    "# Model 1: Decision Tree"
   ]
  },
  {
   "cell_type": "code",
   "execution_count": 10,
   "metadata": {},
   "outputs": [],
   "source": [
    "from sklearn.tree import DecisionTreeClassifier"
   ]
  },
  {
   "cell_type": "code",
   "execution_count": 11,
   "metadata": {},
   "outputs": [
    {
     "data": {
      "text/plain": [
       "DecisionTreeClassifier(class_weight=None, criterion='gini', max_depth=None,\n",
       "            max_features=None, max_leaf_nodes=None,\n",
       "            min_impurity_decrease=0.0, min_impurity_split=None,\n",
       "            min_samples_leaf=1, min_samples_split=2,\n",
       "            min_weight_fraction_leaf=0.0, presort=False, random_state=None,\n",
       "            splitter='best')"
      ]
     },
     "execution_count": 11,
     "metadata": {},
     "output_type": "execute_result"
    }
   ],
   "source": [
    "dt_clf = DecisionTreeClassifier()\n",
    "dt_clf.fit(X_train, y_train)"
   ]
  },
  {
   "cell_type": "code",
   "execution_count": 12,
   "metadata": {},
   "outputs": [
    {
     "name": "stdout",
     "output_type": "stream",
     "text": [
      "Train Result:\n",
      "\n",
      "accuracy score: 0.9034\n",
      "\n",
      "Classification Report: \n",
      "              precision    recall  f1-score   support\n",
      "\n",
      "        0.0       0.88      0.97      0.92       271\n",
      "        1.0       0.95      0.80      0.87       174\n",
      "\n",
      "avg / total       0.91      0.90      0.90       445\n",
      "\n",
      "\n",
      "Confusion Matrix: \n",
      " [[263   8]\n",
      " [ 35 139]]\n",
      "\n",
      "Average Accuracy: \t 0.8539\n",
      "Accuracy SD: \t\t 0.0463\n",
      "Test Result:\n",
      "\n",
      "accuracy score: 0.7668\n",
      "\n",
      "Classification Report: \n",
      "              precision    recall  f1-score   support\n",
      "\n",
      "        0.0       0.78      0.87      0.82       278\n",
      "        1.0       0.74      0.59      0.66       168\n",
      "\n",
      "avg / total       0.76      0.77      0.76       446\n",
      "\n",
      "\n",
      "Confusion Matrix: \n",
      " [[243  35]\n",
      " [ 69  99]]\n",
      "\n"
     ]
    }
   ],
   "source": [
    "print_score(dt_clf, X_train, y_train, X_test, y_test, train=True)\n",
    "print_score(dt_clf, X_train, y_train, X_test, y_test, train=False)"
   ]
  },
  {
   "cell_type": "code",
   "execution_count": null,
   "metadata": {},
   "outputs": [],
   "source": []
  },
  {
   "cell_type": "markdown",
   "metadata": {},
   "source": [
    "# model 3:AdaBoost"
   ]
  },
  {
   "cell_type": "code",
   "execution_count": 44,
   "metadata": {},
   "outputs": [],
   "source": [
    "from sklearn.ensemble import AdaBoostClassifier\n"
   ]
  },
  {
   "cell_type": "code",
   "execution_count": 45,
   "metadata": {},
   "outputs": [],
   "source": [
    "from sklearn.ensemble import BaggingClassifier"
   ]
  },
  {
   "cell_type": "code",
   "execution_count": 46,
   "metadata": {},
   "outputs": [],
   "source": [
    "class_weight = {0:0.834, 1:0.166}"
   ]
  },
  {
   "cell_type": "code",
   "execution_count": 47,
   "metadata": {},
   "outputs": [
    {
     "data": {
      "text/plain": [
       "AdaBoostClassifier(algorithm='SAMME.R',\n",
       "          base_estimator=SVC(C=1, cache_size=200, class_weight=None, coef0=0.0,\n",
       "  decision_function_shape='ovr', degree=4, gamma='auto', kernel='poly',\n",
       "  max_iter=-1, probability=True, random_state=None, shrinking=True,\n",
       "  tol=0.001, verbose=False),\n",
       "          learning_rate=0.5, n_estimators=100, random_state=42)"
      ]
     },
     "execution_count": 47,
     "metadata": {},
     "output_type": "execute_result"
    }
   ],
   "source": [
    "ada_clf = AdaBoostClassifier(base_estimator=svc_clf, n_estimators=100,\n",
    "                         learning_rate=0.5,random_state=42)\n",
    "ada_clf.fit(X_train_std,y_train)"
   ]
  },
  {
   "cell_type": "code",
   "execution_count": 49,
   "metadata": {},
   "outputs": [
    {
     "name": "stdout",
     "output_type": "stream",
     "text": [
      "Train Result:\n",
      "\n",
      "accuracy score: 0.6090\n",
      "\n",
      "Classification Report: \n",
      "              precision    recall  f1-score   support\n",
      "\n",
      "        0.0       0.61      1.00      0.76       271\n",
      "        1.0       0.00      0.00      0.00       174\n",
      "\n",
      "avg / total       0.37      0.61      0.46       445\n",
      "\n",
      "\n",
      "Confusion Matrix: \n",
      " [[271   0]\n",
      " [174   0]]\n",
      "\n",
      "Average Accuracy: \t 0.6090\n",
      "Accuracy SD: \t\t 0.0022\n",
      "Test Result:\n",
      "\n",
      "accuracy score: 0.6233\n",
      "\n",
      "Classification Report: \n",
      "              precision    recall  f1-score   support\n",
      "\n",
      "        0.0       0.62      1.00      0.77       278\n",
      "        1.0       0.00      0.00      0.00       168\n",
      "\n",
      "avg / total       0.39      0.62      0.48       446\n",
      "\n",
      "\n",
      "Confusion Matrix: \n",
      " [[278   0]\n",
      " [168   0]]\n",
      "\n"
     ]
    }
   ],
   "source": [
    "print_score(ada_clf, X_train_std, y_train, X_test_std, y_test, train=True)\n",
    "print_score(ada_clf, X_train_std, y_train, X_test_std, y_test, train=False)"
   ]
  },
  {
   "cell_type": "markdown",
   "metadata": {},
   "source": [
    "# Model 4: Logistic "
   ]
  },
  {
   "cell_type": "code",
   "execution_count": 50,
   "metadata": {},
   "outputs": [],
   "source": [
    "from sklearn.linear_model import LogisticRegression"
   ]
  },
  {
   "cell_type": "code",
   "execution_count": 51,
   "metadata": {},
   "outputs": [
    {
     "data": {
      "text/plain": [
       "LogisticRegression(C=1.0, class_weight=None, dual=False, fit_intercept=True,\n",
       "          intercept_scaling=1, max_iter=100, multi_class='ovr', n_jobs=1,\n",
       "          penalty='l2', random_state=None, solver='liblinear', tol=0.0001,\n",
       "          verbose=0, warm_start=False)"
      ]
     },
     "execution_count": 51,
     "metadata": {},
     "output_type": "execute_result"
    }
   ],
   "source": [
    "logcv = LogisticRegression()\n",
    "logcv.fit(X_train_std,y_train)"
   ]
  },
  {
   "cell_type": "code",
   "execution_count": 52,
   "metadata": {},
   "outputs": [
    {
     "name": "stdout",
     "output_type": "stream",
     "text": [
      "Train Result:\n",
      "\n",
      "accuracy score: 0.8270\n",
      "\n",
      "Classification Report: \n",
      "              precision    recall  f1-score   support\n",
      "\n",
      "        0.0       0.84      0.88      0.86       271\n",
      "        1.0       0.80      0.75      0.77       174\n",
      "\n",
      "avg / total       0.83      0.83      0.83       445\n",
      "\n",
      "\n",
      "Confusion Matrix: \n",
      " [[238  33]\n",
      " [ 44 130]]\n",
      "\n",
      "Average Accuracy: \t 0.8203\n",
      "Accuracy SD: \t\t 0.0156\n",
      "Test Result:\n",
      "\n",
      "accuracy score: 0.8274\n",
      "\n",
      "Classification Report: \n",
      "              precision    recall  f1-score   support\n",
      "\n",
      "        0.0       0.84      0.90      0.87       278\n",
      "        1.0       0.81      0.71      0.76       168\n",
      "\n",
      "avg / total       0.83      0.83      0.82       446\n",
      "\n",
      "\n",
      "Confusion Matrix: \n",
      " [[250  28]\n",
      " [ 49 119]]\n",
      "\n"
     ]
    }
   ],
   "source": [
    "print_score(logcv, X_train_std, y_train, X_test_std, y_test, train=True)\n",
    "print_score(logcv, X_train_std, y_train, X_test_std, y_test, train=False)"
   ]
  },
  {
   "cell_type": "code",
   "execution_count": 20,
   "metadata": {},
   "outputs": [
    {
     "name": "stdout",
     "output_type": "stream",
     "text": [
      "Train Result:\n",
      "\n",
      "accuracy score: 0.9034\n",
      "\n",
      "Classification Report: \n",
      "              precision    recall  f1-score   support\n",
      "\n",
      "        0.0       0.93      0.91      0.92       271\n",
      "        1.0       0.86      0.90      0.88       174\n",
      "\n",
      "avg / total       0.90      0.90      0.90       445\n",
      "\n",
      "\n",
      "Confusion Matrix: \n",
      " [[246  25]\n",
      " [ 18 156]]\n",
      "\n",
      "Average Accuracy: \t 0.9011\n",
      "Accuracy SD: \t\t 0.0391\n",
      "Test Result:\n",
      "\n",
      "accuracy score: 0.7758\n",
      "\n",
      "Classification Report: \n",
      "              precision    recall  f1-score   support\n",
      "\n",
      "        0.0       0.82      0.81      0.82       278\n",
      "        1.0       0.70      0.71      0.71       168\n",
      "\n",
      "avg / total       0.78      0.78      0.78       446\n",
      "\n",
      "\n",
      "Confusion Matrix: \n",
      " [[226  52]\n",
      " [ 48 120]]\n",
      "\n"
     ]
    }
   ],
   "source": [
    "print_score(logcv, X_train, y_train, X_test, y_test, train=True)\n",
    "print_score(logcv, X_train, y_train, X_test, y_test, train=False)"
   ]
  },
  {
   "cell_type": "markdown",
   "metadata": {},
   "source": [
    "# Model 5: Support Vector"
   ]
  },
  {
   "cell_type": "code",
   "execution_count": 53,
   "metadata": {},
   "outputs": [],
   "source": [
    "from sklearn.svm import SVC"
   ]
  },
  {
   "cell_type": "code",
   "execution_count": 54,
   "metadata": {},
   "outputs": [
    {
     "data": {
      "text/plain": [
       "SVC(C=1, cache_size=200, class_weight=None, coef0=0.0,\n",
       "  decision_function_shape='ovr', degree=4, gamma='auto', kernel='poly',\n",
       "  max_iter=-1, probability=True, random_state=None, shrinking=True,\n",
       "  tol=0.001, verbose=False)"
      ]
     },
     "execution_count": 54,
     "metadata": {},
     "output_type": "execute_result"
    }
   ],
   "source": [
    "svc_clf = SVC(probability=True,kernel = 'poly',degree=4,C=1)\n",
    "svc_clf.fit(X_train_std,y_train)\n"
   ]
  },
  {
   "cell_type": "code",
   "execution_count": 56,
   "metadata": {},
   "outputs": [
    {
     "name": "stdout",
     "output_type": "stream",
     "text": [
      "Train Result:\n",
      "\n",
      "accuracy score: 0.8000\n",
      "\n",
      "Classification Report: \n",
      "              precision    recall  f1-score   support\n",
      "\n",
      "        0.0       0.76      0.97      0.86       271\n",
      "        1.0       0.93      0.53      0.67       174\n",
      "\n",
      "avg / total       0.83      0.80      0.78       445\n",
      "\n",
      "\n",
      "Confusion Matrix: \n",
      " [[264   7]\n",
      " [ 82  92]]\n",
      "\n",
      "Average Accuracy: \t 0.7461\n",
      "Accuracy SD: \t\t 0.0033\n",
      "Test Result:\n",
      "\n",
      "accuracy score: 0.7623\n",
      "\n",
      "Classification Report: \n",
      "              precision    recall  f1-score   support\n",
      "\n",
      "        0.0       0.74      0.95      0.83       278\n",
      "        1.0       0.85      0.45      0.59       168\n",
      "\n",
      "avg / total       0.78      0.76      0.74       446\n",
      "\n",
      "\n",
      "Confusion Matrix: \n",
      " [[265  13]\n",
      " [ 93  75]]\n",
      "\n"
     ]
    }
   ],
   "source": [
    "print_score(svc_clf, X_train_std, y_train, X_test_std, y_test, train=True)\n",
    "print_score(svc_clf, X_train_std, y_train, X_test_std, y_test, train=False)"
   ]
  },
  {
   "cell_type": "code",
   "execution_count": 24,
   "metadata": {},
   "outputs": [
    {
     "name": "stdout",
     "output_type": "stream",
     "text": [
      "Train Result:\n",
      "\n",
      "accuracy score: 0.8697\n",
      "\n",
      "Classification Report: \n",
      "              precision    recall  f1-score   support\n",
      "\n",
      "        0.0       0.86      0.94      0.90       271\n",
      "        1.0       0.89      0.76      0.82       174\n",
      "\n",
      "avg / total       0.87      0.87      0.87       445\n",
      "\n",
      "\n",
      "Confusion Matrix: \n",
      " [[254  17]\n",
      " [ 41 133]]\n",
      "\n",
      "Average Accuracy: \t 0.7978\n",
      "Accuracy SD: \t\t 0.0131\n",
      "Test Result:\n",
      "\n",
      "accuracy score: 0.8072\n",
      "\n",
      "Classification Report: \n",
      "              precision    recall  f1-score   support\n",
      "\n",
      "        0.0       0.81      0.91      0.85       278\n",
      "        1.0       0.81      0.64      0.71       168\n",
      "\n",
      "avg / total       0.81      0.81      0.80       446\n",
      "\n",
      "\n",
      "Confusion Matrix: \n",
      " [[253  25]\n",
      " [ 61 107]]\n",
      "\n"
     ]
    }
   ],
   "source": [
    "print_score(svc_clf, X_train, y_train, X_test, y_test, train=True)\n",
    "print_score(svc_clf, X_train, y_train, X_test, y_test, train=False)"
   ]
  },
  {
   "cell_type": "markdown",
   "metadata": {},
   "source": [
    "# Model 6: Gradient Boosting"
   ]
  },
  {
   "cell_type": "code",
   "execution_count": 57,
   "metadata": {},
   "outputs": [
    {
     "data": {
      "text/plain": [
       "GradientBoostingClassifier(criterion='friedman_mse', init=None,\n",
       "              learning_rate=0.01, loss='deviance', max_depth=3,\n",
       "              max_features=None, max_leaf_nodes=None,\n",
       "              min_impurity_decrease=0.0, min_impurity_split=None,\n",
       "              min_samples_leaf=1, min_samples_split=2,\n",
       "              min_weight_fraction_leaf=0.0, n_estimators=100,\n",
       "              presort='auto', random_state=1, subsample=1.0, verbose=0,\n",
       "              warm_start=False)"
      ]
     },
     "execution_count": 57,
     "metadata": {},
     "output_type": "execute_result"
    }
   ],
   "source": [
    "from sklearn.ensemble import GradientBoostingClassifier\n",
    "gb_clf= GradientBoostingClassifier(learning_rate=0.01,random_state=1)\n",
    "gb_clf.fit(X_train_std, y_train)"
   ]
  },
  {
   "cell_type": "code",
   "execution_count": 58,
   "metadata": {},
   "outputs": [
    {
     "name": "stdout",
     "output_type": "stream",
     "text": [
      "Train Result:\n",
      "\n",
      "accuracy score: 0.8337\n",
      "\n",
      "Classification Report: \n",
      "              precision    recall  f1-score   support\n",
      "\n",
      "        0.0       0.85      0.88      0.87       271\n",
      "        1.0       0.80      0.76      0.78       174\n",
      "\n",
      "avg / total       0.83      0.83      0.83       445\n",
      "\n",
      "\n",
      "Confusion Matrix: \n",
      " [[238  33]\n",
      " [ 41 133]]\n",
      "\n",
      "Average Accuracy: \t 0.8158\n",
      "Accuracy SD: \t\t 0.0123\n",
      "Test Result:\n",
      "\n",
      "accuracy score: 0.8184\n",
      "\n",
      "Classification Report: \n",
      "              precision    recall  f1-score   support\n",
      "\n",
      "        0.0       0.82      0.91      0.86       278\n",
      "        1.0       0.81      0.67      0.74       168\n",
      "\n",
      "avg / total       0.82      0.82      0.81       446\n",
      "\n",
      "\n",
      "Confusion Matrix: \n",
      " [[252  26]\n",
      " [ 55 113]]\n",
      "\n"
     ]
    }
   ],
   "source": [
    "print_score(gb_clf, X_train_std, y_train, X_test_std, y_test, train=True)\n",
    "print_score(gb_clf, X_train_std, y_train, X_test_std, y_test, train=False)"
   ]
  },
  {
   "cell_type": "code",
   "execution_count": 108,
   "metadata": {},
   "outputs": [
    {
     "name": "stdout",
     "output_type": "stream",
     "text": [
      "Train Result:\n",
      "\n",
      "accuracy score: 0.9034\n",
      "\n",
      "Classification Report: \n",
      "              precision    recall  f1-score   support\n",
      "\n",
      "        0.0       0.88      0.97      0.92       271\n",
      "        1.0       0.95      0.80      0.87       174\n",
      "\n",
      "avg / total       0.91      0.90      0.90       445\n",
      "\n",
      "\n",
      "Confusion Matrix: \n",
      " [[263   8]\n",
      " [ 35 139]]\n",
      "\n",
      "Average Accuracy: \t 0.8698\n",
      "Accuracy SD: \t\t 0.0234\n",
      "Test Result:\n",
      "\n",
      "accuracy score: 0.7713\n",
      "\n",
      "Classification Report: \n",
      "              precision    recall  f1-score   support\n",
      "\n",
      "        0.0       0.78      0.88      0.83       278\n",
      "        1.0       0.75      0.59      0.66       168\n",
      "\n",
      "avg / total       0.77      0.77      0.76       446\n",
      "\n",
      "\n",
      "Confusion Matrix: \n",
      " [[245  33]\n",
      " [ 69  99]]\n",
      "\n"
     ]
    }
   ],
   "source": [
    "print_score(gb_clf, X_train, y_train, X_test, y_test, train=True)\n",
    "print_score(gb_clf, X_train, y_train, X_test, y_test, train=False)"
   ]
  },
  {
   "cell_type": "markdown",
   "metadata": {},
   "source": [
    "# Extra Tree"
   ]
  },
  {
   "cell_type": "code",
   "execution_count": 26,
   "metadata": {},
   "outputs": [],
   "source": [
    "from sklearn.ensemble import ExtraTreesClassifier"
   ]
  },
  {
   "cell_type": "code",
   "execution_count": 27,
   "metadata": {},
   "outputs": [],
   "source": [
    "et_clf = ExtraTreesClassifier()"
   ]
  },
  {
   "cell_type": "code",
   "execution_count": 28,
   "metadata": {},
   "outputs": [
    {
     "data": {
      "text/plain": [
       "ExtraTreesClassifier(bootstrap=False, class_weight=None, criterion='gini',\n",
       "           max_depth=None, max_features='auto', max_leaf_nodes=None,\n",
       "           min_impurity_decrease=0.0, min_impurity_split=None,\n",
       "           min_samples_leaf=1, min_samples_split=2,\n",
       "           min_weight_fraction_leaf=0.0, n_estimators=10, n_jobs=1,\n",
       "           oob_score=False, random_state=None, verbose=0, warm_start=False)"
      ]
     },
     "execution_count": 28,
     "metadata": {},
     "output_type": "execute_result"
    }
   ],
   "source": [
    "et_clf.fit(X_train,y_train)"
   ]
  },
  {
   "cell_type": "code",
   "execution_count": 29,
   "metadata": {},
   "outputs": [
    {
     "name": "stdout",
     "output_type": "stream",
     "text": [
      "Train Result:\n",
      "\n",
      "accuracy score: 0.9034\n",
      "\n",
      "Classification Report: \n",
      "              precision    recall  f1-score   support\n",
      "\n",
      "        0.0       0.88      0.97      0.92       271\n",
      "        1.0       0.95      0.80      0.87       174\n",
      "\n",
      "avg / total       0.91      0.90      0.90       445\n",
      "\n",
      "\n",
      "Confusion Matrix: \n",
      " [[263   8]\n",
      " [ 35 139]]\n",
      "\n",
      "Average Accuracy: \t 0.8539\n",
      "Accuracy SD: \t\t 0.0463\n",
      "Test Result:\n",
      "\n",
      "accuracy score: 0.7803\n",
      "\n",
      "Classification Report: \n",
      "              precision    recall  f1-score   support\n",
      "\n",
      "        0.0       0.79      0.87      0.83       278\n",
      "        1.0       0.75      0.62      0.68       168\n",
      "\n",
      "avg / total       0.78      0.78      0.78       446\n",
      "\n",
      "\n",
      "Confusion Matrix: \n",
      " [[243  35]\n",
      " [ 63 105]]\n",
      "\n"
     ]
    }
   ],
   "source": [
    "print_score(et_clf, X_train, y_train, X_test, y_test, train=True)\n",
    "print_score(et_clf, X_train, y_train, X_test, y_test, train=False)"
   ]
  },
  {
   "cell_type": "markdown",
   "metadata": {},
   "source": [
    "# Knn"
   ]
  },
  {
   "cell_type": "code",
   "execution_count": 59,
   "metadata": {},
   "outputs": [],
   "source": [
    "from sklearn.neighbors import KNeighborsClassifier"
   ]
  },
  {
   "cell_type": "code",
   "execution_count": 60,
   "metadata": {},
   "outputs": [],
   "source": [
    "knn_clf=KNeighborsClassifier()"
   ]
  },
  {
   "cell_type": "code",
   "execution_count": 61,
   "metadata": {},
   "outputs": [
    {
     "data": {
      "text/plain": [
       "KNeighborsClassifier(algorithm='auto', leaf_size=30, metric='minkowski',\n",
       "           metric_params=None, n_jobs=1, n_neighbors=5, p=2,\n",
       "           weights='uniform')"
      ]
     },
     "execution_count": 61,
     "metadata": {},
     "output_type": "execute_result"
    }
   ],
   "source": [
    "knn_clf.fit(X_train_std,y_train)"
   ]
  },
  {
   "cell_type": "code",
   "execution_count": 62,
   "metadata": {},
   "outputs": [
    {
     "name": "stdout",
     "output_type": "stream",
     "text": [
      "Train Result:\n",
      "\n",
      "accuracy score: 0.8427\n",
      "\n",
      "Classification Report: \n",
      "              precision    recall  f1-score   support\n",
      "\n",
      "        0.0       0.85      0.90      0.87       271\n",
      "        1.0       0.82      0.76      0.79       174\n",
      "\n",
      "avg / total       0.84      0.84      0.84       445\n",
      "\n",
      "\n",
      "Confusion Matrix: \n",
      " [[243  28]\n",
      " [ 42 132]]\n",
      "\n",
      "Average Accuracy: \t 0.8002\n",
      "Accuracy SD: \t\t 0.0367\n",
      "Test Result:\n",
      "\n",
      "accuracy score: 0.8229\n",
      "\n",
      "Classification Report: \n",
      "              precision    recall  f1-score   support\n",
      "\n",
      "        0.0       0.82      0.91      0.86       278\n",
      "        1.0       0.82      0.68      0.74       168\n",
      "\n",
      "avg / total       0.82      0.82      0.82       446\n",
      "\n",
      "\n",
      "Confusion Matrix: \n",
      " [[253  25]\n",
      " [ 54 114]]\n",
      "\n"
     ]
    }
   ],
   "source": [
    "print_score(knn_clf, X_train_std, y_train, X_test_std, y_test, train=True)\n",
    "print_score(knn_clf, X_train_std, y_train, X_test_std, y_test, train=False)"
   ]
  },
  {
   "cell_type": "code",
   "execution_count": 33,
   "metadata": {},
   "outputs": [
    {
     "name": "stdout",
     "output_type": "stream",
     "text": [
      "Train Result:\n",
      "\n",
      "accuracy score: 0.9034\n",
      "\n",
      "Classification Report: \n",
      "              precision    recall  f1-score   support\n",
      "\n",
      "        0.0       0.91      0.93      0.92       271\n",
      "        1.0       0.89      0.86      0.87       174\n",
      "\n",
      "avg / total       0.90      0.90      0.90       445\n",
      "\n",
      "\n",
      "Confusion Matrix: \n",
      " [[252  19]\n",
      " [ 24 150]]\n",
      "\n",
      "Average Accuracy: \t 0.8809\n",
      "Accuracy SD: \t\t 0.0428\n",
      "Test Result:\n",
      "\n",
      "accuracy score: 0.7780\n",
      "\n",
      "Classification Report: \n",
      "              precision    recall  f1-score   support\n",
      "\n",
      "        0.0       0.81      0.85      0.83       278\n",
      "        1.0       0.73      0.66      0.69       168\n",
      "\n",
      "avg / total       0.78      0.78      0.78       446\n",
      "\n",
      "\n",
      "Confusion Matrix: \n",
      " [[236  42]\n",
      " [ 57 111]]\n",
      "\n"
     ]
    }
   ],
   "source": [
    "print_score(knn_clf, X_train, y_train, X_test, y_test, train=True)\n",
    "print_score(knn_clf, X_train, y_train, X_test, y_test, train=False)"
   ]
  },
  {
   "cell_type": "code",
   "execution_count": 34,
   "metadata": {},
   "outputs": [
    {
     "data": {
      "text/plain": [
       "dt_clf     0\n",
       "et_clf     0\n",
       "ada_clf    0\n",
       "svc_clf    0\n",
       "logcv      0\n",
       "gb_clf     0\n",
       "knn_clf    0\n",
       "dtype: int64"
      ]
     },
     "execution_count": 34,
     "metadata": {},
     "output_type": "execute_result"
    }
   ],
   "source": [
    "Xtest.isnull().sum()"
   ]
  },
  {
   "cell_type": "markdown",
   "metadata": {},
   "source": [
    "# ensemble of ensembling"
   ]
  },
  {
   "cell_type": "code",
   "execution_count": 35,
   "metadata": {},
   "outputs": [],
   "source": [
    "en_train = pd.DataFrame()\n",
    "en_val = pd.DataFrame()\n",
    "en_test = pd.DataFrame()"
   ]
  },
  {
   "cell_type": "code",
   "execution_count": null,
   "metadata": {},
   "outputs": [],
   "source": [
    " "
   ]
  },
  {
   "cell_type": "code",
   "execution_count": 36,
   "metadata": {},
   "outputs": [],
   "source": [
    "en_train['dt_clf'] = pd.DataFrame(dt_clf.predict_proba(X_train))[1]\n",
    "en_train['et_clf'] =  pd.DataFrame(et_clf.predict_proba(X_train))[1]\n",
    "en_train['ada_clf'] =  pd.DataFrame(ada_clf.predict_proba(X_train))[1]\n",
    "en_train['svc_clf'] =  pd.DataFrame(svc_clf.predict_proba(X_train))[1]\n",
    "en_train['logcv'] =  pd.DataFrame(logcv.predict_proba(X_train))[1]\n",
    "en_train['gb_clf'] =  pd.DataFrame(gb_clf.predict_proba(X_train))[1]\n",
    "#en_train['vote_clf'] =  pd.DataFrame(vote_clf.predict(X_train))\n",
    "en_train['knn_clf'] =  pd.DataFrame(knn_clf.predict_proba(X_train))[1]\n",
    "#en_train = pd.concat([en_train, pd.DataFrame(y_train).reset_index(drop=True)], axis=1)"
   ]
  },
  {
   "cell_type": "code",
   "execution_count": 37,
   "metadata": {},
   "outputs": [],
   "source": [
    "en_val['dt_clf'] = pd.DataFrame(dt_clf.predict_proba(X_test))[1]\n",
    "en_val['et_clf'] =  pd.DataFrame(et_clf.predict_proba(X_test))[1]\n",
    "en_val['ada_clf'] =  pd.DataFrame(ada_clf.predict_proba(X_test))[1]\n",
    "en_val['svc_clf'] =  pd.DataFrame(svc_clf.predict_proba(X_test))[1]\n",
    "en_val['logcv'] =  pd.DataFrame(logcv.predict_proba(X_test))[1]\n",
    "en_val['gb_clf'] =  pd.DataFrame(gb_clf.predict_proba(X_test))[1]\n",
    "en_val['knn_clf'] =  pd.DataFrame(knn_clf.predict_proba(X_test))[1]\n",
    "#en_val['vote_clf'] =  pd.DataFrame(vote_clf.predict(X_test))"
   ]
  },
  {
   "cell_type": "code",
   "execution_count": 38,
   "metadata": {},
   "outputs": [],
   "source": [
    "#Xtest['Title'].isnull().sum()"
   ]
  },
  {
   "cell_type": "code",
   "execution_count": 39,
   "metadata": {},
   "outputs": [],
   "source": [
    "en_test['dt_clf'] = pd.DataFrame(dt_clf.predict_proba(Xtest))[1]\n",
    "en_test['et_clf'] =  pd.DataFrame(et_clf.predict_proba(Xtest))[1]\n",
    "en_test['ada_clf'] =  pd.DataFrame(ada_clf.predict_proba(Xtest))[1]\n",
    "en_test['svc_clf'] =  pd.DataFrame(svc_clf.predict_proba(Xtest))[1]\n",
    "en_test['logcv'] =  pd.DataFrame(logcv.predict_proba(Xtest))[1]\n",
    "en_test['gb_clf'] =  pd.DataFrame(gb_clf.predict_proba(Xtest))[1]\n",
    "en_test['knn_clf'] =  pd.DataFrame(knn_clf.predict_proba(Xtest))[1]\n",
    "#en_test['vote_clf'] =  pd.DataFrame(vote_clf.predict(Xtest))"
   ]
  },
  {
   "cell_type": "code",
   "execution_count": 40,
   "metadata": {},
   "outputs": [
    {
     "data": {
      "text/html": [
       "<div>\n",
       "<style scoped>\n",
       "    .dataframe tbody tr th:only-of-type {\n",
       "        vertical-align: middle;\n",
       "    }\n",
       "\n",
       "    .dataframe tbody tr th {\n",
       "        vertical-align: top;\n",
       "    }\n",
       "\n",
       "    .dataframe thead th {\n",
       "        text-align: right;\n",
       "    }\n",
       "</style>\n",
       "<table border=\"1\" class=\"dataframe\">\n",
       "  <thead>\n",
       "    <tr style=\"text-align: right;\">\n",
       "      <th></th>\n",
       "      <th>dt_clf</th>\n",
       "      <th>et_clf</th>\n",
       "      <th>ada_clf</th>\n",
       "      <th>svc_clf</th>\n",
       "      <th>logcv</th>\n",
       "      <th>gb_clf</th>\n",
       "      <th>knn_clf</th>\n",
       "    </tr>\n",
       "  </thead>\n",
       "  <tbody>\n",
       "    <tr>\n",
       "      <th>0</th>\n",
       "      <td>0.25</td>\n",
       "      <td>0.25</td>\n",
       "      <td>0.494603</td>\n",
       "      <td>0.076034</td>\n",
       "      <td>0.202920</td>\n",
       "      <td>0.300035</td>\n",
       "      <td>0.2</td>\n",
       "    </tr>\n",
       "    <tr>\n",
       "      <th>1</th>\n",
       "      <td>1.00</td>\n",
       "      <td>1.00</td>\n",
       "      <td>0.598564</td>\n",
       "      <td>0.941952</td>\n",
       "      <td>0.966185</td>\n",
       "      <td>0.776737</td>\n",
       "      <td>1.0</td>\n",
       "    </tr>\n",
       "    <tr>\n",
       "      <th>2</th>\n",
       "      <td>0.60</td>\n",
       "      <td>0.60</td>\n",
       "      <td>0.501909</td>\n",
       "      <td>0.845425</td>\n",
       "      <td>0.720467</td>\n",
       "      <td>0.529065</td>\n",
       "      <td>0.6</td>\n",
       "    </tr>\n",
       "    <tr>\n",
       "      <th>3</th>\n",
       "      <td>1.00</td>\n",
       "      <td>1.00</td>\n",
       "      <td>0.598564</td>\n",
       "      <td>0.941953</td>\n",
       "      <td>0.966185</td>\n",
       "      <td>0.776737</td>\n",
       "      <td>1.0</td>\n",
       "    </tr>\n",
       "    <tr>\n",
       "      <th>4</th>\n",
       "      <td>0.50</td>\n",
       "      <td>0.50</td>\n",
       "      <td>0.500184</td>\n",
       "      <td>0.476032</td>\n",
       "      <td>0.501642</td>\n",
       "      <td>0.461019</td>\n",
       "      <td>0.4</td>\n",
       "    </tr>\n",
       "  </tbody>\n",
       "</table>\n",
       "</div>"
      ],
      "text/plain": [
       "   dt_clf  et_clf   ada_clf   svc_clf     logcv    gb_clf  knn_clf\n",
       "0    0.25    0.25  0.494603  0.076034  0.202920  0.300035      0.2\n",
       "1    1.00    1.00  0.598564  0.941952  0.966185  0.776737      1.0\n",
       "2    0.60    0.60  0.501909  0.845425  0.720467  0.529065      0.6\n",
       "3    1.00    1.00  0.598564  0.941953  0.966185  0.776737      1.0\n",
       "4    0.50    0.50  0.500184  0.476032  0.501642  0.461019      0.4"
      ]
     },
     "execution_count": 40,
     "metadata": {},
     "output_type": "execute_result"
    }
   ],
   "source": [
    "en_train.head()"
   ]
  },
  {
   "cell_type": "code",
   "execution_count": 41,
   "metadata": {},
   "outputs": [
    {
     "name": "stdout",
     "output_type": "stream",
     "text": [
      "(445, 7) (446, 7) (418, 7)\n"
     ]
    }
   ],
   "source": [
    "print(en_train.shape,en_val.shape,en_test.shape)"
   ]
  },
  {
   "cell_type": "code",
   "execution_count": 42,
   "metadata": {},
   "outputs": [],
   "source": [
    "en_train.to_csv('en_train4.csv',index=False)"
   ]
  },
  {
   "cell_type": "code",
   "execution_count": 43,
   "metadata": {},
   "outputs": [],
   "source": [
    "en_val.to_csv('en_val4.csv',index=False)"
   ]
  },
  {
   "cell_type": "code",
   "execution_count": 44,
   "metadata": {},
   "outputs": [],
   "source": [
    "en_test.to_csv('en_test4.csv',index=False)"
   ]
  },
  {
   "cell_type": "code",
   "execution_count": null,
   "metadata": {},
   "outputs": [],
   "source": []
  },
  {
   "cell_type": "markdown",
   "metadata": {},
   "source": [
    "# Extra Tree"
   ]
  },
  {
   "cell_type": "code",
   "execution_count": 90,
   "metadata": {},
   "outputs": [],
   "source": [
    "en_train_df = pd.read_csv('en_train4.csv')\n",
    "en_val_df = pd.read_csv('en_val4.csv')\n",
    "en_test_df = pd.read_csv('en_test4.csv')"
   ]
  },
  {
   "cell_type": "code",
   "execution_count": 46,
   "metadata": {},
   "outputs": [
    {
     "data": {
      "text/html": [
       "<div>\n",
       "<style scoped>\n",
       "    .dataframe tbody tr th:only-of-type {\n",
       "        vertical-align: middle;\n",
       "    }\n",
       "\n",
       "    .dataframe tbody tr th {\n",
       "        vertical-align: top;\n",
       "    }\n",
       "\n",
       "    .dataframe thead th {\n",
       "        text-align: right;\n",
       "    }\n",
       "</style>\n",
       "<table border=\"1\" class=\"dataframe\">\n",
       "  <thead>\n",
       "    <tr style=\"text-align: right;\">\n",
       "      <th></th>\n",
       "      <th>dt_clf</th>\n",
       "      <th>et_clf</th>\n",
       "      <th>ada_clf</th>\n",
       "      <th>svc_clf</th>\n",
       "      <th>logcv</th>\n",
       "      <th>gb_clf</th>\n",
       "      <th>knn_clf</th>\n",
       "    </tr>\n",
       "  </thead>\n",
       "  <tbody>\n",
       "    <tr>\n",
       "      <th>0</th>\n",
       "      <td>1.0</td>\n",
       "      <td>1.00</td>\n",
       "      <td>0.598564</td>\n",
       "      <td>0.936719</td>\n",
       "      <td>0.963056</td>\n",
       "      <td>0.776737</td>\n",
       "      <td>1.0</td>\n",
       "    </tr>\n",
       "    <tr>\n",
       "      <th>1</th>\n",
       "      <td>1.0</td>\n",
       "      <td>1.00</td>\n",
       "      <td>0.598564</td>\n",
       "      <td>0.941884</td>\n",
       "      <td>0.966179</td>\n",
       "      <td>0.776737</td>\n",
       "      <td>1.0</td>\n",
       "    </tr>\n",
       "    <tr>\n",
       "      <th>2</th>\n",
       "      <td>0.5</td>\n",
       "      <td>0.50</td>\n",
       "      <td>0.500184</td>\n",
       "      <td>0.458382</td>\n",
       "      <td>0.583107</td>\n",
       "      <td>0.461019</td>\n",
       "      <td>0.4</td>\n",
       "    </tr>\n",
       "    <tr>\n",
       "      <th>3</th>\n",
       "      <td>0.4</td>\n",
       "      <td>0.51</td>\n",
       "      <td>0.500629</td>\n",
       "      <td>0.478501</td>\n",
       "      <td>0.639064</td>\n",
       "      <td>0.460574</td>\n",
       "      <td>0.4</td>\n",
       "    </tr>\n",
       "    <tr>\n",
       "      <th>4</th>\n",
       "      <td>0.0</td>\n",
       "      <td>0.00</td>\n",
       "      <td>0.396420</td>\n",
       "      <td>0.061330</td>\n",
       "      <td>0.046006</td>\n",
       "      <td>0.143893</td>\n",
       "      <td>0.0</td>\n",
       "    </tr>\n",
       "  </tbody>\n",
       "</table>\n",
       "</div>"
      ],
      "text/plain": [
       "   dt_clf  et_clf   ada_clf   svc_clf     logcv    gb_clf  knn_clf\n",
       "0     1.0    1.00  0.598564  0.936719  0.963056  0.776737      1.0\n",
       "1     1.0    1.00  0.598564  0.941884  0.966179  0.776737      1.0\n",
       "2     0.5    0.50  0.500184  0.458382  0.583107  0.461019      0.4\n",
       "3     0.4    0.51  0.500629  0.478501  0.639064  0.460574      0.4\n",
       "4     0.0    0.00  0.396420  0.061330  0.046006  0.143893      0.0"
      ]
     },
     "execution_count": 46,
     "metadata": {},
     "output_type": "execute_result"
    }
   ],
   "source": [
    "en_val_df.head()"
   ]
  },
  {
   "cell_type": "code",
   "execution_count": 26,
   "metadata": {},
   "outputs": [
    {
     "name": "stderr",
     "output_type": "stream",
     "text": [
      "C:\\Users\\Faysal\\AppData\\Local\\Continuum\\anaconda3\\lib\\site-packages\\sklearn\\ensemble\\weight_boosting.py:29: DeprecationWarning: numpy.core.umath_tests is an internal NumPy module and should not be imported. It will be removed in a future NumPy release.\n",
      "  from numpy.core.umath_tests import inner1d\n"
     ]
    }
   ],
   "source": [
    "from sklearn.ensemble import ExtraTreesClassifier,GradientBoostingClassifier,RandomForestClassifier,BaggingClassifier\n",
    "from sklearn.svm import SVC\n",
    "from sklearn.linear_model import LogisticRegression\n",
    "from sklearn.neighbors import KNeighborsClassifier\n",
    "from sklearn.tree import DecisionTreeClassifier\n",
    "from sklearn.naive_bayes import GaussianNB"
   ]
  },
  {
   "cell_type": "code",
   "execution_count": 48,
   "metadata": {},
   "outputs": [],
   "source": [
    "\n",
    "rf=RandomForestClassifier()\n",
    "nb=GaussianNB()"
   ]
  },
  {
   "cell_type": "code",
   "execution_count": 49,
   "metadata": {},
   "outputs": [
    {
     "data": {
      "text/plain": [
       "RandomForestClassifier(bootstrap=True, class_weight=None, criterion='gini',\n",
       "            max_depth=None, max_features='auto', max_leaf_nodes=None,\n",
       "            min_impurity_decrease=0.0, min_impurity_split=None,\n",
       "            min_samples_leaf=1, min_samples_split=2,\n",
       "            min_weight_fraction_leaf=0.0, n_estimators=10, n_jobs=1,\n",
       "            oob_score=False, random_state=None, verbose=0,\n",
       "            warm_start=False)"
      ]
     },
     "execution_count": 49,
     "metadata": {},
     "output_type": "execute_result"
    }
   ],
   "source": [
    "rf.fit(en_val_df,y_test)"
   ]
  },
  {
   "cell_type": "code",
   "execution_count": 50,
   "metadata": {},
   "outputs": [
    {
     "name": "stdout",
     "output_type": "stream",
     "text": [
      "Test Result:\n",
      "\n",
      "accuracy score: 0.9081\n",
      "\n",
      "Classification Report: \n",
      "              precision    recall  f1-score   support\n",
      "\n",
      "        0.0       0.89      0.97      0.93       278\n",
      "        1.0       0.94      0.80      0.87       168\n",
      "\n",
      "avg / total       0.91      0.91      0.91       446\n",
      "\n",
      "\n",
      "Confusion Matrix: \n",
      " [[270   8]\n",
      " [ 33 135]]\n",
      "\n"
     ]
    }
   ],
   "source": [
    "#print_score(nb, en_train_df, y_train, en_val_df, y_test, train=True)\n",
    "print_score(rf, en_train_df, y_train, en_val_df, y_test, train=False)"
   ]
  },
  {
   "cell_type": "markdown",
   "metadata": {},
   "source": [
    "# Bagging"
   ]
  },
  {
   "cell_type": "code",
   "execution_count": 27,
   "metadata": {},
   "outputs": [],
   "source": [
    "bag_clf = BaggingClassifier(base_estimator=svc_clf, n_estimators=100,\n",
    "                            max_samples=1.0, max_features=1.0, bootstrap=True,\n",
    "                            bootstrap_features=False, n_jobs=-1,\n",
    "                            random_state=42)"
   ]
  },
  {
   "cell_type": "code",
   "execution_count": 63,
   "metadata": {},
   "outputs": [
    {
     "data": {
      "text/plain": [
       "BaggingClassifier(base_estimator=SVC(C=1, cache_size=200, class_weight=None, coef0=0.0,\n",
       "  decision_function_shape='ovr', degree=4, gamma='auto', kernel='poly',\n",
       "  max_iter=-1, probability=True, random_state=None, shrinking=True,\n",
       "  tol=0.001, verbose=False),\n",
       "         bootstrap=True, bootstrap_features=False, max_features=1.0,\n",
       "         max_samples=1.0, n_estimators=100, n_jobs=-1, oob_score=False,\n",
       "         random_state=42, verbose=0, warm_start=False)"
      ]
     },
     "execution_count": 63,
     "metadata": {},
     "output_type": "execute_result"
    }
   ],
   "source": [
    "bag_clf.fit(X_train_std, y_train)"
   ]
  },
  {
   "cell_type": "code",
   "execution_count": 64,
   "metadata": {},
   "outputs": [
    {
     "name": "stdout",
     "output_type": "stream",
     "text": [
      "Train Result:\n",
      "\n",
      "accuracy score: 0.7978\n",
      "\n",
      "Classification Report: \n",
      "              precision    recall  f1-score   support\n",
      "\n",
      "        0.0       0.76      0.97      0.85       271\n",
      "        1.0       0.93      0.52      0.67       174\n",
      "\n",
      "avg / total       0.83      0.80      0.78       445\n",
      "\n",
      "\n",
      "Confusion Matrix: \n",
      " [[264   7]\n",
      " [ 83  91]]\n",
      "\n",
      "Average Accuracy: \t 0.7415\n",
      "Accuracy SD: \t\t 0.0052\n",
      "Test Result:\n",
      "\n",
      "accuracy score: 0.7691\n",
      "\n",
      "Classification Report: \n",
      "              precision    recall  f1-score   support\n",
      "\n",
      "        0.0       0.75      0.95      0.84       278\n",
      "        1.0       0.86      0.46      0.60       168\n",
      "\n",
      "avg / total       0.79      0.77      0.75       446\n",
      "\n",
      "\n",
      "Confusion Matrix: \n",
      " [[265  13]\n",
      " [ 90  78]]\n",
      "\n"
     ]
    }
   ],
   "source": [
    "print_score(bag_clf, X_train_std, y_train, X_test_std, y_test, train=True)\n",
    "print_score(bag_clf, X_train_std, y_train, X_test_std, y_test, train=False)"
   ]
  },
  {
   "cell_type": "code",
   "execution_count": 111,
   "metadata": {},
   "outputs": [
    {
     "name": "stdout",
     "output_type": "stream",
     "text": [
      "Train Result:\n",
      "\n",
      "accuracy score: 0.8989\n",
      "\n",
      "Classification Report: \n",
      "              precision    recall  f1-score   support\n",
      "\n",
      "        0.0       0.87      0.99      0.92       271\n",
      "        1.0       0.97      0.76      0.86       174\n",
      "\n",
      "avg / total       0.91      0.90      0.90       445\n",
      "\n",
      "\n",
      "Confusion Matrix: \n",
      " [[267   4]\n",
      " [ 41 133]]\n",
      "\n",
      "Average Accuracy: \t 0.8990\n",
      "Accuracy SD: \t\t 0.0155\n",
      "Test Result:\n",
      "\n",
      "accuracy score: 0.7825\n",
      "\n",
      "Classification Report: \n",
      "              precision    recall  f1-score   support\n",
      "\n",
      "        0.0       0.78      0.90      0.84       278\n",
      "        1.0       0.78      0.58      0.67       168\n",
      "\n",
      "avg / total       0.78      0.78      0.77       446\n",
      "\n",
      "\n",
      "Confusion Matrix: \n",
      " [[251  27]\n",
      " [ 70  98]]\n",
      "\n"
     ]
    }
   ],
   "source": [
    "print_score(bag_clf, en_train_df, y_train, en_val_df, y_test, train=True)\n",
    "print_score(bag_clf, en_train_df, y_train, en_val_df, y_test, train=False)"
   ]
  },
  {
   "cell_type": "code",
   "execution_count": 54,
   "metadata": {},
   "outputs": [],
   "source": [
    "temp=pd.read_csv('en_test2.csv')"
   ]
  },
  {
   "cell_type": "code",
   "execution_count": 55,
   "metadata": {},
   "outputs": [
    {
     "data": {
      "text/html": [
       "<div>\n",
       "<style scoped>\n",
       "    .dataframe tbody tr th:only-of-type {\n",
       "        vertical-align: middle;\n",
       "    }\n",
       "\n",
       "    .dataframe tbody tr th {\n",
       "        vertical-align: top;\n",
       "    }\n",
       "\n",
       "    .dataframe thead th {\n",
       "        text-align: right;\n",
       "    }\n",
       "</style>\n",
       "<table border=\"1\" class=\"dataframe\">\n",
       "  <thead>\n",
       "    <tr style=\"text-align: right;\">\n",
       "      <th></th>\n",
       "      <th>dt_clf</th>\n",
       "      <th>et_clf</th>\n",
       "      <th>ada_clf</th>\n",
       "      <th>svc_clf</th>\n",
       "      <th>logcv</th>\n",
       "      <th>gb_clf</th>\n",
       "      <th>knn_clf</th>\n",
       "    </tr>\n",
       "  </thead>\n",
       "  <tbody>\n",
       "    <tr>\n",
       "      <th>0</th>\n",
       "      <td>0.000000</td>\n",
       "      <td>0.00000</td>\n",
       "      <td>0.394286</td>\n",
       "      <td>0.038198</td>\n",
       "      <td>0.043854</td>\n",
       "      <td>0.143893</td>\n",
       "      <td>0.0</td>\n",
       "    </tr>\n",
       "    <tr>\n",
       "      <th>1</th>\n",
       "      <td>0.857143</td>\n",
       "      <td>0.35493</td>\n",
       "      <td>0.500406</td>\n",
       "      <td>0.500000</td>\n",
       "      <td>0.339450</td>\n",
       "      <td>0.368117</td>\n",
       "      <td>0.6</td>\n",
       "    </tr>\n",
       "    <tr>\n",
       "      <th>2</th>\n",
       "      <td>0.000000</td>\n",
       "      <td>0.00000</td>\n",
       "      <td>0.394742</td>\n",
       "      <td>0.031130</td>\n",
       "      <td>0.054416</td>\n",
       "      <td>0.143893</td>\n",
       "      <td>0.0</td>\n",
       "    </tr>\n",
       "    <tr>\n",
       "      <th>3</th>\n",
       "      <td>0.161290</td>\n",
       "      <td>0.16129</td>\n",
       "      <td>0.491742</td>\n",
       "      <td>0.082186</td>\n",
       "      <td>0.130193</td>\n",
       "      <td>0.238273</td>\n",
       "      <td>0.4</td>\n",
       "    </tr>\n",
       "    <tr>\n",
       "      <th>4</th>\n",
       "      <td>0.000000</td>\n",
       "      <td>0.00000</td>\n",
       "      <td>0.394762</td>\n",
       "      <td>0.069804</td>\n",
       "      <td>0.050102</td>\n",
       "      <td>0.143893</td>\n",
       "      <td>0.0</td>\n",
       "    </tr>\n",
       "  </tbody>\n",
       "</table>\n",
       "</div>"
      ],
      "text/plain": [
       "     dt_clf   et_clf   ada_clf   svc_clf     logcv    gb_clf  knn_clf\n",
       "0  0.000000  0.00000  0.394286  0.038198  0.043854  0.143893      0.0\n",
       "1  0.857143  0.35493  0.500406  0.500000  0.339450  0.368117      0.6\n",
       "2  0.000000  0.00000  0.394742  0.031130  0.054416  0.143893      0.0\n",
       "3  0.161290  0.16129  0.491742  0.082186  0.130193  0.238273      0.4\n",
       "4  0.000000  0.00000  0.394762  0.069804  0.050102  0.143893      0.0"
      ]
     },
     "execution_count": 55,
     "metadata": {},
     "output_type": "execute_result"
    }
   ],
   "source": [
    "temp.head()"
   ]
  },
  {
   "cell_type": "code",
   "execution_count": null,
   "metadata": {},
   "outputs": [],
   "source": []
  },
  {
   "cell_type": "markdown",
   "metadata": {},
   "source": [
    "# Prediction"
   ]
  },
  {
   "cell_type": "code",
   "execution_count": 91,
   "metadata": {},
   "outputs": [
    {
     "data": {
      "text/html": [
       "<div>\n",
       "<style scoped>\n",
       "    .dataframe tbody tr th:only-of-type {\n",
       "        vertical-align: middle;\n",
       "    }\n",
       "\n",
       "    .dataframe tbody tr th {\n",
       "        vertical-align: top;\n",
       "    }\n",
       "\n",
       "    .dataframe thead th {\n",
       "        text-align: right;\n",
       "    }\n",
       "</style>\n",
       "<table border=\"1\" class=\"dataframe\">\n",
       "  <thead>\n",
       "    <tr style=\"text-align: right;\">\n",
       "      <th></th>\n",
       "      <th>dt_clf</th>\n",
       "      <th>et_clf</th>\n",
       "      <th>ada_clf</th>\n",
       "      <th>svc_clf</th>\n",
       "      <th>logcv</th>\n",
       "      <th>gb_clf</th>\n",
       "      <th>knn_clf</th>\n",
       "    </tr>\n",
       "  </thead>\n",
       "  <tbody>\n",
       "    <tr>\n",
       "      <th>0</th>\n",
       "      <td>0.00000</td>\n",
       "      <td>0.00000</td>\n",
       "      <td>0.396420</td>\n",
       "      <td>0.061257</td>\n",
       "      <td>0.045993</td>\n",
       "      <td>0.143893</td>\n",
       "      <td>0.0</td>\n",
       "    </tr>\n",
       "    <tr>\n",
       "      <th>1</th>\n",
       "      <td>0.40000</td>\n",
       "      <td>0.51000</td>\n",
       "      <td>0.500629</td>\n",
       "      <td>0.471417</td>\n",
       "      <td>0.638222</td>\n",
       "      <td>0.460574</td>\n",
       "      <td>0.4</td>\n",
       "    </tr>\n",
       "    <tr>\n",
       "      <th>2</th>\n",
       "      <td>0.00000</td>\n",
       "      <td>0.00000</td>\n",
       "      <td>0.396420</td>\n",
       "      <td>0.061224</td>\n",
       "      <td>0.045997</td>\n",
       "      <td>0.143893</td>\n",
       "      <td>0.0</td>\n",
       "    </tr>\n",
       "    <tr>\n",
       "      <th>3</th>\n",
       "      <td>0.16129</td>\n",
       "      <td>0.16129</td>\n",
       "      <td>0.491789</td>\n",
       "      <td>0.072235</td>\n",
       "      <td>0.114378</td>\n",
       "      <td>0.238273</td>\n",
       "      <td>0.2</td>\n",
       "    </tr>\n",
       "    <tr>\n",
       "      <th>4</th>\n",
       "      <td>0.00000</td>\n",
       "      <td>0.00000</td>\n",
       "      <td>0.396420</td>\n",
       "      <td>0.060298</td>\n",
       "      <td>0.046192</td>\n",
       "      <td>0.143893</td>\n",
       "      <td>0.0</td>\n",
       "    </tr>\n",
       "  </tbody>\n",
       "</table>\n",
       "</div>"
      ],
      "text/plain": [
       "    dt_clf   et_clf   ada_clf   svc_clf     logcv    gb_clf  knn_clf\n",
       "0  0.00000  0.00000  0.396420  0.061257  0.045993  0.143893      0.0\n",
       "1  0.40000  0.51000  0.500629  0.471417  0.638222  0.460574      0.4\n",
       "2  0.00000  0.00000  0.396420  0.061224  0.045997  0.143893      0.0\n",
       "3  0.16129  0.16129  0.491789  0.072235  0.114378  0.238273      0.2\n",
       "4  0.00000  0.00000  0.396420  0.060298  0.046192  0.143893      0.0"
      ]
     },
     "execution_count": 91,
     "metadata": {},
     "output_type": "execute_result"
    }
   ],
   "source": [
    "en_test_df.head()"
   ]
  },
  {
   "cell_type": "code",
   "execution_count": 83,
   "metadata": {},
   "outputs": [
    {
     "ename": "NameError",
     "evalue": "name 'en_test_df' is not defined",
     "output_type": "error",
     "traceback": [
      "\u001b[1;31m---------------------------------------------------------------------------\u001b[0m",
      "\u001b[1;31mNameError\u001b[0m                                 Traceback (most recent call last)",
      "\u001b[1;32m<ipython-input-83-31d7e196e345>\u001b[0m in \u001b[0;36m<module>\u001b[1;34m()\u001b[0m\n\u001b[1;32m----> 1\u001b[1;33m \u001b[0moutput\u001b[0m \u001b[1;33m=\u001b[0m \u001b[0msvc_clf\u001b[0m\u001b[1;33m.\u001b[0m\u001b[0mpredict\u001b[0m\u001b[1;33m(\u001b[0m\u001b[0men_test_df\u001b[0m\u001b[1;33m)\u001b[0m\u001b[1;33m.\u001b[0m\u001b[0mastype\u001b[0m\u001b[1;33m(\u001b[0m\u001b[0mint\u001b[0m\u001b[1;33m)\u001b[0m\u001b[1;33m\u001b[0m\u001b[0m\n\u001b[0m\u001b[0;32m      2\u001b[0m \u001b[0mdf_output\u001b[0m \u001b[1;33m=\u001b[0m \u001b[0mpd\u001b[0m\u001b[1;33m.\u001b[0m\u001b[0mDataFrame\u001b[0m\u001b[1;33m(\u001b[0m\u001b[1;33m)\u001b[0m\u001b[1;33m\u001b[0m\u001b[0m\n\u001b[0;32m      3\u001b[0m \u001b[0maux\u001b[0m \u001b[1;33m=\u001b[0m \u001b[0mpd\u001b[0m\u001b[1;33m.\u001b[0m\u001b[0mread_csv\u001b[0m\u001b[1;33m(\u001b[0m\u001b[1;34m'test.csv'\u001b[0m\u001b[1;33m)\u001b[0m\u001b[1;33m\u001b[0m\u001b[0m\n\u001b[0;32m      4\u001b[0m \u001b[0mdf_output\u001b[0m\u001b[1;33m[\u001b[0m\u001b[1;34m'PassengerId'\u001b[0m\u001b[1;33m]\u001b[0m \u001b[1;33m=\u001b[0m \u001b[0maux\u001b[0m\u001b[1;33m[\u001b[0m\u001b[1;34m'PassengerId'\u001b[0m\u001b[1;33m]\u001b[0m\u001b[1;33m\u001b[0m\u001b[0m\n\u001b[0;32m      5\u001b[0m \u001b[0mdf_output\u001b[0m\u001b[1;33m[\u001b[0m\u001b[1;34m'Survived'\u001b[0m\u001b[1;33m]\u001b[0m \u001b[1;33m=\u001b[0m \u001b[0moutput\u001b[0m\u001b[1;33m\u001b[0m\u001b[0m\n",
      "\u001b[1;31mNameError\u001b[0m: name 'en_test_df' is not defined"
     ]
    }
   ],
   "source": [
    "output = svc_clf.predict(en_test_df).astype(int)\n",
    "df_output = pd.DataFrame()\n",
    "aux = pd.read_csv('test.csv')\n",
    "df_output['PassengerId'] = aux['PassengerId']\n",
    "df_output['Survived'] = output\n",
    "df_output[['PassengerId','Survived']].to_csv('svc2_submission.csv', index=False)"
   ]
  },
  {
   "cell_type": "code",
   "execution_count": 58,
   "metadata": {},
   "outputs": [
    {
     "name": "stdout",
     "output_type": "stream",
     "text": [
      "Done\n"
     ]
    }
   ],
   "source": [
    "print(\"Done\")"
   ]
  }
 ],
 "metadata": {
  "kernelspec": {
   "display_name": "Python 3",
   "language": "python",
   "name": "python3"
  },
  "language_info": {
   "codemirror_mode": {
    "name": "ipython",
    "version": 3
   },
   "file_extension": ".py",
   "mimetype": "text/x-python",
   "name": "python",
   "nbconvert_exporter": "python",
   "pygments_lexer": "ipython3",
   "version": "3.6.5"
  }
 },
 "nbformat": 4,
 "nbformat_minor": 2
}
