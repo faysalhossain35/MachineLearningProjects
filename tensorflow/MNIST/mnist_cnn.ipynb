{
 "cells": [
  {
   "cell_type": "markdown",
   "metadata": {},
   "source": [
    "# Convolutional Neural Netrwork with MNIST"
   ]
  },
  {
   "cell_type": "code",
   "execution_count": 4,
   "metadata": {},
   "outputs": [
    {
     "name": "stdout",
     "output_type": "stream",
     "text": [
      "Tensorflow version 1.8.0\n"
     ]
    }
   ],
   "source": [
    "import tensorflow as tf\n",
    "import matplotlib.pyplot as plt \n",
    "import numpy as np\n",
    "import pandas as pd\n",
    "import math\n",
    "from tensorflow.examples.tutorials.mnist import input_data\n",
    "print(\"Tensorflow version \" + tf.__version__)"
   ]
  },
  {
   "cell_type": "code",
   "execution_count": null,
   "metadata": {},
   "outputs": [],
   "source": []
  },
  {
   "cell_type": "code",
   "execution_count": 45,
   "metadata": {},
   "outputs": [
    {
     "name": "stdout",
     "output_type": "stream",
     "text": [
      "Extracting MNIST_data/train-images-idx3-ubyte.gz\n",
      "Extracting MNIST_data/train-labels-idx1-ubyte.gz\n",
      "Extracting MNIST_data/t10k-images-idx3-ubyte.gz\n",
      "Extracting MNIST_data/t10k-labels-idx1-ubyte.gz\n"
     ]
    }
   ],
   "source": [
    "# Download images and labels into mnist.test (10K images+labels) and mnist.train (60K images+labels)\n",
    "mnist = input_data.read_data_sets(\"MNIST_data/\", one_hot=True,reshape=False)"
   ]
  },
  {
   "cell_type": "code",
   "execution_count": 46,
   "metadata": {},
   "outputs": [],
   "source": [
    "tf.reset_default_graph()"
   ]
  },
  {
   "cell_type": "code",
   "execution_count": 47,
   "metadata": {},
   "outputs": [],
   "source": [
    "x_data = tf.placeholder(tf.float32, [None, 28,28,1])\n",
    "y_target = tf.placeholder(tf.float32, [None, 10])\n",
    "        \n",
    "#pkeep = tf.placeholder(tf.float32))\n",
    "# step for variable learning rate\n",
    "#step = tf.placeholder(tf.int32)\n",
    "\n"
   ]
  },
  {
   "cell_type": "code",
   "execution_count": 48,
   "metadata": {},
   "outputs": [],
   "source": [
    "# three convolutional layers with their channel counts, and a\n",
    "# fully connected layer (tha last layer has 10 softmax neurons)\n",
    "K = 4  # first convolutional layer output depth\n",
    "L = 8  # second convolutional layer output depth\n",
    "M = 12  # third convolutional layer\n",
    "N = 200  # fully connected layer\n",
    "\n",
    "\n",
    "W1 = tf.Variable(tf.truncated_normal([5,5, 1, K], stddev=0.1))  # 5x5 patch, 1 input channel, K output channels\n",
    "B1 = tf.Variable(tf.ones([K])/10)\n",
    "W2 = tf.Variable(tf.truncated_normal([5, 5, K, L], stddev=0.1))\n",
    "B2 = tf.Variable(tf.ones([L])/10)\n",
    "W3 = tf.Variable(tf.truncated_normal([4, 4, L, M], stddev=0.1))\n",
    "B3 = tf.Variable(tf.ones([M])/10)\n",
    "\n",
    "W4 = tf.Variable(tf.truncated_normal([7 * 7 * M, N], stddev=0.1))\n",
    "B4 = tf.Variable(tf.ones([N])/10)\n",
    "W5 = tf.Variable(tf.truncated_normal([N, 10], stddev=0.1))\n",
    "B5 = tf.Variable(tf.ones([10])/10)\n",
    "\n",
    "# The model\n",
    "stride = 1  # output is 28x28\n",
    "Y1 = tf.nn.relu(tf.nn.conv2d(x_data, W1, strides=[1, stride, stride, 1], padding='SAME') + B1)\n",
    "stride = 2  # output is 14x14\n",
    "Y2 = tf.nn.relu(tf.nn.conv2d(Y1, W2, strides=[1, stride, stride, 1], padding='SAME') + B2)\n",
    "stride = 2  # output is 7x7\n",
    "Y3 = tf.nn.relu(tf.nn.conv2d(Y2, W3, strides=[1, stride, stride, 1], padding='SAME') + B3)\n",
    "\n",
    "# reshape the output from the third convolution for the fully connected layer\n",
    "YY = tf.reshape(Y3, shape=[-1, 7 * 7 * M])\n",
    "\n",
    "Y4 = tf.nn.relu(tf.matmul(YY, W4) + B4)\n",
    "Ylogits = tf.matmul(Y4, W5) + B5\n",
    "Y = tf.nn.softmax(Ylogits)\n",
    "\n",
    "# cross-entropy loss function (= -sum(Y_i * log(Yi)) ), normalised for batches of 100  images\n",
    "# TensorFlow provides the softmax_cross_entropy_with_logits function to avoid numerical stability\n",
    "# problems with log(0) which is NaN\n",
    "cross_entropy = tf.nn.softmax_cross_entropy_with_logits_v2(logits=Ylogits, labels=y_target)\n",
    "cross_entropy = tf.reduce_mean(cross_entropy)*100\n",
    "\n",
    "# accuracy of the trained model, between 0 (worst) and 1 (best)\n",
    "correct_prediction = tf.equal(tf.argmax(Y, 1), tf.argmax(y_target, 1))\n",
    "accuracy = tf.reduce_mean(tf.cast(correct_prediction, tf.float32))"
   ]
  },
  {
   "cell_type": "code",
   "execution_count": 49,
   "metadata": {},
   "outputs": [],
   "source": [
    "# training step, the learning rate is a placeholder\n",
    "\n",
    "global_step = tf.Variable(0,trainable=False)\n",
    "# the learning rate is: # 0.0001 + 0.003 * (1/e)^(step/2000)), i.e. exponential decay from 0.003->0.0001\n",
    "lr = 0.0001 +  tf.train.exponential_decay(0.003, global_step, 2000, 1/math.e)\n",
    "optimizer = tf.train.AdamOptimizer(lr).minimize(cross_entropy)\n",
    "\n",
    "# init\n",
    "init = tf.global_variables_initializer()\n",
    "batch_size=64"
   ]
  },
  {
   "cell_type": "code",
   "execution_count": 100,
   "metadata": {},
   "outputs": [
    {
     "name": "stdout",
     "output_type": "stream",
     "text": [
      "Epoch:0, Train loss:220.5623321533203,Train acc:0.1875,\n",
      "Epoch:0,Validation loss:244.08883666992188,Validation acc:0.08760000020265579,\n",
      "Epoch:2000, Train loss:0.9370568990707397,Train acc:1.0,\n",
      "Epoch:2000,Validation loss:5.474689960479736,Validation acc:0.9829000234603882,\n",
      "Epoch:4000, Train loss:3.2763962745666504,Train acc:0.984375,\n",
      "Epoch:4000,Validation loss:4.850635528564453,Validation acc:0.9846000075340271,\n",
      "Epoch:6000, Train loss:4.029606342315674,Train acc:0.984375,\n",
      "Epoch:6000,Validation loss:5.227458477020264,Validation acc:0.9843000173568726,\n",
      "Epoch:8000, Train loss:0.13561424612998962,Train acc:1.0,\n",
      "Epoch:8000,Validation loss:4.97873592376709,Validation acc:0.988099992275238,\n",
      "Epoch:10000, Train loss:0.33138975501060486,Train acc:1.0,\n",
      "Epoch:10000,Validation loss:6.023477554321289,Validation acc:0.9861000180244446,\n"
     ]
    }
   ],
   "source": [
    "train_acc=[]\n",
    "test_acc=[]\n",
    "with tf.Session() as sess:\n",
    "    # Initialize all Variables\n",
    "    sess.run(init)\n",
    "   \n",
    "    for epoch in range(10001):\n",
    "        \n",
    "        batch_x, batch_y = mnist.train.next_batch(batch_size)\n",
    "        \n",
    "        #Run the optimizer\n",
    "        sess.run(optimizer, feed_dict={x_data:batch_x, y_target:batch_y})  \n",
    "    \n",
    "   \n",
    "        # Print the Loss/Error after every 10000 epochs\n",
    "        if epoch%2000 == 0:\n",
    "            acc_train,err_train= sess.run([accuracy,cross_entropy], \n",
    "                                          feed_dict={x_data:batch_x, y_target:batch_y})   \n",
    "            acc_test,err_test= sess.run([accuracy,cross_entropy],\n",
    "                                        feed_dict={x_data: mnist.test.images, y_target:mnist.test.labels})\n",
    "            \n",
    "            train_acc.append(acc_train)\n",
    "            test_acc.append(acc_test)\n",
    "        \n",
    "        \n",
    "            print('Epoch:{0}, Train loss:{1},Train acc:{2},'.format( epoch,err_train,acc_train))\n",
    "            print('Epoch:{0},Validation loss:{1},Validation acc:{2},'.format(epoch,err_test,acc_test))\n",
    "                     "
   ]
  },
  {
   "cell_type": "code",
   "execution_count": 101,
   "metadata": {},
   "outputs": [
    {
     "data": {
      "text/plain": [
       "[<matplotlib.lines.Line2D at 0x1bd8f63d4a8>]"
      ]
     },
     "execution_count": 101,
     "metadata": {},
     "output_type": "execute_result"
    },
    {
     "data": {
      "image/png": "[encoded data removed]",
      "text/plain": [
       "<Figure size 432x288 with 1 Axes>"
      ]
     },
     "metadata": {},
     "output_type": "display_data"
    }
   ],
   "source": [
    "plt.xlabel(\"Epoch\")\n",
    "plt.ylabel(\"Accuracy\")\n",
    "plt.ylim(0.6,1)\n",
    "plt.plot(train_acc)\n",
    "plt.plot(test_acc)"
   ]
  },
  {
   "cell_type": "code",
   "execution_count": null,
   "metadata": {},
   "outputs": [],
   "source": []
  }
 ],
 "metadata": {
  "kernelspec": {
   "display_name": "Python 3",
   "language": "python",
   "name": "python3"
  },
  "language_info": {
   "codemirror_mode": {
    "name": "ipython",
    "version": 3
   },
   "file_extension": ".py",
   "mimetype": "text/x-python",
   "name": "python",
   "nbconvert_exporter": "python",
   "pygments_lexer": "ipython3",
   "version": "3.5.5"
  }
 },
 "nbformat": 4,
 "nbformat_minor": 2
}
