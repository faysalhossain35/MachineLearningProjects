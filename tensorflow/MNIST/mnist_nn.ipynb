{
 "cells": [
  {
   "cell_type": "markdown",
   "metadata": {},
   "source": [
    "# Neural Network with Tensorflow of MNIST"
   ]
  },
  {
   "cell_type": "code",
   "execution_count": 39,
   "metadata": {},
   "outputs": [
    {
     "name": "stdout",
     "output_type": "stream",
     "text": [
      "Tensorflow version 1.8.0\n"
     ]
    }
   ],
   "source": [
    "import tensorflow as tf\n",
    "import matplotlib.pyplot as plt \n",
    "import numpy as np\n",
    "import pandas as pd\n",
    "import math\n",
    "print(\"Tensorflow version \" + tf.__version__)"
   ]
  },
  {
   "cell_type": "code",
   "execution_count": null,
   "metadata": {},
   "outputs": [],
   "source": [
    "from tensorflow.examples.tutorials.mnist import input_data"
   ]
  },
  {
   "cell_type": "code",
   "execution_count": 6,
   "metadata": {},
   "outputs": [
    {
     "name": "stdout",
     "output_type": "stream",
     "text": [
      "Extracting MNIST_data/train-images-idx3-ubyte.gz\n",
      "Extracting MNIST_data/train-labels-idx1-ubyte.gz\n",
      "Extracting MNIST_data/t10k-images-idx3-ubyte.gz\n",
      "Extracting MNIST_data/t10k-labels-idx1-ubyte.gz\n"
     ]
    }
   ],
   "source": [
    "# Download images and labels into mnist.test (10K images+labels) and mnist.train (60K images+labels)\n",
    "mnist = input_data.read_data_sets(\"MNIST_data/\", one_hot=True)"
   ]
  },
  {
   "cell_type": "code",
   "execution_count": 18,
   "metadata": {},
   "outputs": [],
   "source": [
    "tf.reset_default_graph()"
   ]
  },
  {
   "cell_type": "code",
   "execution_count": 19,
   "metadata": {},
   "outputs": [],
   "source": [
    "\n",
    "x_data = tf.placeholder(tf.float32, [None, 784])\n",
    "y_target = tf.placeholder(tf.float32, [None, 10])\n",
    "        \n",
    "pkeep = tf.placeholder(tf.float32)"
   ]
  },
  {
   "cell_type": "code",
   "execution_count": 31,
   "metadata": {},
   "outputs": [],
   "source": [
    "# five layers and their number of neurons (tha last layer has 10 softmax neurons)\n",
    "L = 256\n",
    "M = 128\n",
    "N = 64\n",
    "O = 32\n",
    "# Weights initialised with small random values between -0.2 and +0.2\n",
    "# When using RELUs, make sure biases are initialised with small *positive* values for example 0.1 = tf.ones([K])/10\n",
    "X = tf.reshape(x_data, [-1, 28*28])\n",
    "W1 = tf.Variable(tf.truncated_normal([784, L], stddev=0.1))  # 784 = 28 * 28\n",
    "B1 = tf.Variable(tf.ones([L])/10)\n",
    "\n",
    "Y1 = tf.nn.relu(tf.matmul(X, W1) + B1)\n",
    "Y1d = tf.nn.dropout(Y1, pkeep)\n",
    "\n",
    "W2 = tf.Variable(tf.truncated_normal([L, M], stddev=0.1))\n",
    "B2 = tf.Variable(tf.ones([M])/10)\n",
    "Y2 = tf.nn.relu(tf.matmul(Y1d, W2) + B2)\n",
    "Y2d = tf.nn.dropout(Y2, pkeep)\n",
    "\n",
    "\n",
    "W3 = tf.Variable(tf.truncated_normal([M, N], stddev=0.1))\n",
    "B3 = tf.Variable(tf.ones([N])/10)\n",
    "Y3 = tf.nn.relu(tf.matmul(Y2d, W3) + B3)\n",
    "Y3d = tf.nn.dropout(Y3, pkeep)\n",
    "\n",
    "W4 = tf.Variable(tf.truncated_normal([N, O], stddev=0.1))\n",
    "B4 = tf.Variable(tf.ones([O])/10)\n",
    "Y4 = tf.nn.relu(tf.matmul(Y3d, W4) + B4)\n",
    "Y4d = tf.nn.dropout(Y4, pkeep)\n",
    "\n",
    "\n",
    "W5 = tf.Variable(tf.truncated_normal([O, 10], stddev=0.1))\n",
    "B5 = tf.Variable(tf.zeros([10]))\n",
    "Ylogits = tf.matmul(Y4d, W5) + B5\n",
    "Y = tf.nn.softmax(Ylogits)\n",
    "\n",
    "\n",
    "cross_entropy = tf.nn.softmax_cross_entropy_with_logits_v2(logits=Ylogits, labels=y_target)\n",
    "cross_entropy = tf.reduce_mean(cross_entropy)*100\n",
    "\n",
    "# accuracy of the trained model, between 0 (worst) and 1 (best)\n",
    "correct_prediction = tf.equal(tf.argmax(Y, 1), tf.argmax(y_target, 1))\n",
    "accuracy = tf.reduce_mean(tf.cast(correct_prediction, tf.float32))\n"
   ]
  },
  {
   "cell_type": "code",
   "execution_count": 32,
   "metadata": {},
   "outputs": [],
   "source": [
    "global_step = tf.Variable(0,trainable=False)\n",
    "\n",
    "# training step,\n",
    "# the learning rate is: # 0.0001 + 0.003 * (1/e)^(step/2000)), i.e. exponential decay from 0.003->0.0001\n",
    "lr = 0.0001 +  tf.train.exponential_decay(0.003, global_step, 2000, 1/math.e)\n",
    "optimizer = tf.train.AdamOptimizer(lr).minimize(cross_entropy)\n"
   ]
  },
  {
   "cell_type": "code",
   "execution_count": 33,
   "metadata": {},
   "outputs": [],
   "source": [
    "init=tf.global_variables_initializer()\n",
    "merged_summary = tf.summary.merge_all()\n",
    "batch_size = 64"
   ]
  },
  {
   "cell_type": "code",
   "execution_count": 46,
   "metadata": {},
   "outputs": [
    {
     "name": "stdout",
     "output_type": "stream",
     "text": [
      "Epoch:0, Train loss:221.69842529296875,Train acc:0.3125,Validation loss:228.4597625732422,Validation acc:0.13050000369548798,\n",
      "Epoch:1000, Train loss:7.763820171356201,Train acc:0.984375,Validation loss:15.789013862609863,Validation acc:0.9560999870300293,\n",
      "Epoch:2000, Train loss:7.375000953674316,Train acc:0.96875,Validation loss:13.320260047912598,Validation acc:0.9646999835968018,\n",
      "Epoch:3000, Train loss:5.90589714050293,Train acc:0.984375,Validation loss:11.216448783874512,Validation acc:0.9725000262260437,\n",
      "Epoch:4000, Train loss:2.5519819259643555,Train acc:1.0,Validation loss:11.375288009643555,Validation acc:0.9718999862670898,\n",
      "Epoch:5000, Train loss:8.411947250366211,Train acc:0.984375,Validation loss:11.358916282653809,Validation acc:0.972599983215332,\n",
      "Epoch:6000, Train loss:3.8344595432281494,Train acc:0.984375,Validation loss:11.713078498840332,Validation acc:0.972000002861023,\n",
      "Epoch:7000, Train loss:0.4712226688861847,Train acc:1.0,Validation loss:9.519905090332031,Validation acc:0.9758999943733215,\n",
      "Epoch:8000, Train loss:9.751813888549805,Train acc:0.984375,Validation loss:10.199068069458008,Validation acc:0.9751999974250793,\n",
      "Epoch:9000, Train loss:2.3015382289886475,Train acc:1.0,Validation loss:11.183503150939941,Validation acc:0.9731000065803528,\n",
      "Epoch:10000, Train loss:7.572405815124512,Train acc:0.953125,Validation loss:11.734375953674316,Validation acc:0.974399983882904,\n"
     ]
    }
   ],
   "source": [
    "train_acc=[]\n",
    "test_acc=[]\n",
    "with tf.Session() as sess:\n",
    "    # Initialize all Variables\n",
    "    sess.run(init)\n",
    "   \n",
    "    for epoch in range(10001):\n",
    "        \n",
    "        batch_x, batch_y = mnist.train.next_batch(batch_size)\n",
    "        \n",
    "        #Run the optimizer\n",
    "        sess.run(optimizer, feed_dict={x_data:batch_x, y_target:batch_y,pkeep:.70})  \n",
    "    \n",
    "   \n",
    "        # Print the Loss/Error after every 10000 epochs\n",
    "        if epoch%1000 == 0:\n",
    "            acc_train,err_train= sess.run([accuracy,cross_entropy], \n",
    "                                          feed_dict={x_data:batch_x, y_target:batch_y,pkeep:1.0})   \n",
    "            acc_test,err_test= sess.run([accuracy,cross_entropy],\n",
    "                                        feed_dict={x_data: mnist.test.images, y_target:mnist.test.labels,pkeep:1.0})\n",
    "            \n",
    "            train_acc.append(acc_train)\n",
    "            test_acc.append(acc_test)\n",
    "        \n",
    "            print('Epoch:{0}, Train loss:{1},Train acc:{2},Validation loss:{3},Validation acc:{4},'.format(\n",
    "                epoch,err_train,acc_train,err_test,acc_test))\n",
    "\n",
    "            \n",
    "            "
   ]
  },
  {
   "cell_type": "code",
   "execution_count": 47,
   "metadata": {},
   "outputs": [
    {
     "data": {
      "text/plain": [
       "[<matplotlib.lines.Line2D at 0x2a117c09240>]"
      ]
     },
     "execution_count": 47,
     "metadata": {},
     "output_type": "execute_result"
    },
    {
     "data": {
      "image/png": "[encoded data removed]",
      "text/plain": [
       "<Figure size 432x288 with 1 Axes>"
      ]
     },
     "metadata": {},
     "output_type": "display_data"
    }
   ],
   "source": [
    "plt.xlabel(\"Epoch\")\n",
    "plt.ylabel(\"Accuracy\")\n",
    "plt.ylim(0.6,1)\n",
    "plt.plot(train_acc)\n",
    "plt.plot(test_acc)"
   ]
  },
  {
   "cell_type": "code",
   "execution_count": null,
   "metadata": {},
   "outputs": [],
   "source": []
  },
  {
   "cell_type": "code",
   "execution_count": null,
   "metadata": {},
   "outputs": [],
   "source": []
  },
  {
   "cell_type": "code",
   "execution_count": null,
   "metadata": {},
   "outputs": [],
   "source": []
  }
 ],
 "metadata": {
  "kernelspec": {
   "display_name": "Python 3",
   "language": "python",
   "name": "python3"
  },
  "language_info": {
   "codemirror_mode": {
    "name": "ipython",
    "version": 3
   },
   "file_extension": ".py",
   "mimetype": "text/x-python",
   "name": "python",
   "nbconvert_exporter": "python",
   "pygments_lexer": "ipython3",
   "version": "3.5.5"
  }
 },
 "nbformat": 4,
 "nbformat_minor": 2
}
